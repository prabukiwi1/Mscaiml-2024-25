{
 "cells": [
  {
   "cell_type": "code",
   "execution_count": 4,
   "metadata": {},
   "outputs": [],
   "source": [
    "from sklearn.datasets import load_breast_cancer\n",
    "from sklearn.model_selection import train_test_split\n",
    "from sklearn import tree\n",
    "from sklearn.metrics import accuracy_score\n",
    "import graphviz"
   ]
  },
  {
   "cell_type": "code",
   "execution_count": 21,
   "metadata": {},
   "outputs": [
    {
     "name": "stdout",
     "output_type": "stream",
     "text": [
      "Number of Depth in tree 7\n",
      "Number of Leafs in a tree 19\n",
      "traianing Acc 1.0\n",
      "test acc 0.9239766081871345\n"
     ]
    }
   ],
   "source": [
    "cancer_data=load_breast_cancer(as_frame=True)\n",
    "X=cancer_data[\"data\"]\n",
    "Y=cancer_data[\"target\"]\n",
    "feature_names=cancer_data[\"feature_names\"]\n",
    "target_names=cancer_data[\"target_names\"]\n",
    "X_train,X_test,Y_train,Y_test=train_test_split(X,Y,test_size=0.3,random_state=0)\n",
    "clf=tree.DecisionTreeClassifier()\n",
    "clf.fit(X_train,Y_train)\n",
    "print(\"Number of Depth in tree\",clf.get_depth())\n",
    "print(\"Number of Leafs in a tree\",clf.get_n_leaves())\n",
    "trainacc=clf.predict(X_train)\n",
    "testacc=clf.predict(X_test)\n",
    "print(\"traianing Acc\",accuracy_score(Y_train,trainacc))\n",
    "print(\"test acc\",accuracy_score(Y_test,testacc))\n"
   ]
  },
  {
   "cell_type": "code",
   "execution_count": 11,
   "metadata": {},
   "outputs": [
    {
     "data": {
      "text/plain": [
       "'DesTree.pdf'"
      ]
     },
     "execution_count": 11,
     "metadata": {},
     "output_type": "execute_result"
    }
   ],
   "source": [
    "data=tree.export_graphviz(clf,feature_names=feature_names,class_names=target_names,filled=True)\n",
    "graph=graphviz.Source(data)\n",
    "graph.render(\"DesTree\")"
   ]
  }
 ],
 "metadata": {
  "kernelspec": {
   "display_name": "Python 3",
   "language": "python",
   "name": "python3"
  },
  "language_info": {
   "codemirror_mode": {
    "name": "ipython",
    "version": 3
   },
   "file_extension": ".py",
   "mimetype": "text/x-python",
   "name": "python",
   "nbconvert_exporter": "python",
   "pygments_lexer": "ipython3",
   "version": "3.10.0"
  }
 },
 "nbformat": 4,
 "nbformat_minor": 2
}
